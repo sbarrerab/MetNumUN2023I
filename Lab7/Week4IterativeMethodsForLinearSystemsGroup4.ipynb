{
  "cells": [
    {
      "cell_type": "markdown",
      "metadata": {
        "id": "view-in-github",
        "colab_type": "text"
      },
      "source": [
        "<a href=\"https://colab.research.google.com/github/sbarrerab/MetNumUN2023I/blob/main/Week4IterativeMethodsForLinearSystemsGroup4.ipynb\" target=\"_parent\"><img src=\"https://colab.research.google.com/assets/colab-badge.svg\" alt=\"Open In Colab\"/></a>"
      ]
    },
    {
      "cell_type": "markdown",
      "metadata": {
        "id": "_7zSSeX21Grj"
      },
      "source": [
        "# Simple iteration for systems of linear equations"
      ]
    },
    {
      "cell_type": "markdown",
      "metadata": {
        "id": "GRz8VJ0N1Grn"
      },
      "source": [
        "First, generate a random diagonally dominant matrix, for testing."
      ]
    },
    {
      "cell_type": "code",
      "execution_count": 1,
      "metadata": {
        "collapsed": true,
        "id": "jTVkb-WZ1Gro"
      },
      "outputs": [],
      "source": [
        "import numpy as np\n",
        "rndm = np.random.RandomState(1234)\n",
        "\n",
        "n = 10\n",
        "A = rndm.uniform(size=(n, n)) + np.diagflat([15]*n)\n",
        "b = rndm.uniform(size=n)"
      ]
    },
    {
      "cell_type": "code",
      "source": [
        "A"
      ],
      "metadata": {
        "id": "4mv5q-nMKZwY",
        "outputId": "56fabe12-038a-432f-b742-9af29ab78989",
        "colab": {
          "base_uri": "https://localhost:8080/"
        }
      },
      "execution_count": 2,
      "outputs": [
        {
          "output_type": "execute_result",
          "data": {
            "text/plain": [
              "array([[1.51915195e+01, 6.22108771e-01, 4.37727739e-01, 7.85358584e-01,\n",
              "        7.79975808e-01, 2.72592605e-01, 2.76464255e-01, 8.01872178e-01,\n",
              "        9.58139354e-01, 8.75932635e-01],\n",
              "       [3.57817270e-01, 1.55009951e+01, 6.83462935e-01, 7.12702027e-01,\n",
              "        3.70250755e-01, 5.61196186e-01, 5.03083165e-01, 1.37684496e-02,\n",
              "        7.72826622e-01, 8.82641191e-01],\n",
              "       [3.64885984e-01, 6.15396178e-01, 1.50753812e+01, 3.68824006e-01,\n",
              "        9.33140102e-01, 6.51378143e-01, 3.97202578e-01, 7.88730143e-01,\n",
              "        3.16836122e-01, 5.68098653e-01],\n",
              "       [8.69127390e-01, 4.36173424e-01, 8.02147642e-01, 1.51437668e+01,\n",
              "        7.04260971e-01, 7.04581308e-01, 2.18792106e-01, 9.24867629e-01,\n",
              "        4.42140755e-01, 9.09315959e-01],\n",
              "       [5.98092228e-02, 1.84287084e-01, 4.73552788e-02, 6.74880944e-01,\n",
              "        1.55946248e+01, 5.33310163e-01, 4.33240627e-02, 5.61433080e-01,\n",
              "        3.29668446e-01, 5.02966833e-01],\n",
              "       [1.11894318e-01, 6.07193706e-01, 5.65944643e-01, 6.76406199e-03,\n",
              "        6.17441709e-01, 1.59121229e+01, 7.90524133e-01, 9.92081466e-01,\n",
              "        9.58801762e-01, 7.91964135e-01],\n",
              "       [2.85250960e-01, 6.24916705e-01, 4.78093796e-01, 1.95675179e-01,\n",
              "        3.82317452e-01, 5.38736851e-02, 1.54516484e+01, 9.82004742e-01,\n",
              "        1.23942700e-01, 1.19380898e-01],\n",
              "       [7.38523056e-01, 5.87303633e-01, 4.71632534e-01, 1.07126817e-01,\n",
              "        2.29218565e-01, 8.99965195e-01, 4.16753538e-01, 1.55358517e+01,\n",
              "        6.20851659e-03, 3.00641706e-01],\n",
              "       [4.36893172e-01, 6.12148997e-01, 9.18198075e-01, 6.25736670e-01,\n",
              "        7.05997565e-01, 1.49833716e-01, 7.46063409e-01, 8.31006992e-01,\n",
              "        1.56337258e+01, 4.38309881e-01],\n",
              "       [1.52572775e-01, 5.68409615e-01, 5.28224278e-01, 9.51428764e-01,\n",
              "        4.80359179e-01, 5.02559563e-01, 5.36878193e-01, 8.19202067e-01,\n",
              "        5.71156381e-02, 1.56694217e+01]])"
            ]
          },
          "metadata": {},
          "execution_count": 2
        }
      ]
    },
    {
      "cell_type": "markdown",
      "metadata": {
        "id": "oNGIGBex1Grq"
      },
      "source": [
        "# I.  Jacobi iteration\n",
        "\n",
        "Given\n",
        "\n",
        "$$\n",
        "A x = b\n",
        "$$\n",
        "\n",
        "separate the diagonal part $D$,\n",
        "\n",
        "$$ A = D + (A - D) $$\n",
        "\n",
        "and write\n",
        "\n",
        "$$\n",
        "x = D^{-1} (D - A) x + D^{-1} b\\;.\n",
        "$$\n",
        "\n",
        "Then iterate\n",
        "\n",
        "$$\n",
        "x_{n + 1} = B x_{n} + c\\;,\n",
        "$$\n",
        "\n",
        "where \n",
        "\n",
        "$$\n",
        "B = D^{-1} (A - D) \\qquad \\text{and} \\qquad c = D^{-1} b\n",
        "$$\n"
      ]
    },
    {
      "cell_type": "markdown",
      "metadata": {
        "id": "rB2PHHIK1Grr"
      },
      "source": [
        "Let's construct the matrix and the r.h.s. for the Jacobi iteration"
      ]
    },
    {
      "cell_type": "code",
      "execution_count": 3,
      "metadata": {
        "id": "bnk796g61Grr"
      },
      "outputs": [],
      "source": [
        "diag_1d = np.diag(A)\n",
        "\n",
        "B = -A.copy()\n",
        "np.fill_diagonal(B, 0)\n",
        "\n",
        "D = np.diag(diag_1d)\n",
        "invD = np.diag(1./diag_1d)\n",
        "BB = invD @ B \n",
        "c = invD @ b"
      ]
    },
    {
      "cell_type": "code",
      "execution_count": 4,
      "metadata": {
        "id": "0NTUyC3i1Grs"
      },
      "outputs": [],
      "source": [
        "# sanity checks\n",
        "from numpy.testing import assert_allclose\n",
        "\n",
        "assert_allclose(-B + D, A)\n",
        "\n",
        "\n",
        "# xx is a \"ground truth\" solution, compute it using a direct method\n",
        "xx = np.linalg.solve(A, b)\n",
        "\n",
        "np.testing.assert_allclose(A@xx, b)\n",
        "np.testing.assert_allclose(D@xx, B@xx + b)\n",
        "np.testing.assert_allclose(xx, BB@xx + c)"
      ]
    },
    {
      "cell_type": "markdown",
      "metadata": {
        "id": "nRaVUE6U1Grt"
      },
      "source": [
        "Check that $\\| B\\| \\leqslant 1$:"
      ]
    },
    {
      "cell_type": "code",
      "execution_count": 5,
      "metadata": {
        "id": "zgED2OGu1Gru",
        "outputId": "0d04032e-90ec-4c5f-ddb3-650f18daa28a",
        "colab": {
          "base_uri": "https://localhost:8080/"
        }
      },
      "outputs": [
        {
          "output_type": "execute_result",
          "data": {
            "text/plain": [
              "0.36436161983015336"
            ]
          },
          "metadata": {},
          "execution_count": 5
        }
      ],
      "source": [
        "np.linalg.norm(BB)"
      ]
    },
    {
      "cell_type": "markdown",
      "metadata": {
        "id": "rlBcusqg1Grv"
      },
      "source": [
        "### Do the Jacobi iteration"
      ]
    },
    {
      "cell_type": "code",
      "execution_count": 6,
      "metadata": {
        "collapsed": true,
        "id": "NK6iwDtm1Grv"
      },
      "outputs": [],
      "source": [
        "n_iter = 50\n",
        "\n",
        "x0 = np.ones(n)\n",
        "x = x0\n",
        "for _ in range(n_iter):\n",
        "    x = BB @ x + c"
      ]
    },
    {
      "cell_type": "code",
      "execution_count": 7,
      "metadata": {
        "id": "gsLyio7W1Grw",
        "outputId": "78e12a84-93a7-42f2-a7b5-3d83e7cfe3e4",
        "colab": {
          "base_uri": "https://localhost:8080/"
        }
      },
      "outputs": [
        {
          "output_type": "execute_result",
          "data": {
            "text/plain": [
              "array([ 1.11022302e-16,  0.00000000e+00, -2.22044605e-16, -1.11022302e-16,\n",
              "        1.11022302e-16,  0.00000000e+00, -2.42861287e-17,  0.00000000e+00,\n",
              "       -2.77555756e-17,  1.11022302e-16])"
            ]
          },
          "metadata": {},
          "execution_count": 7
        }
      ],
      "source": [
        "# Check the result:\n",
        "\n",
        "A @ x - b"
      ]
    },
    {
      "cell_type": "markdown",
      "metadata": {
        "id": "MXfb9BuT1Grw"
      },
      "source": [
        "### Task I.1\n",
        "\n",
        "Collect the proof-of-concept above into a single function implementing the Jacobi iteration. This function should receive the r.h.s. matrix $A$, the l.h.s. vector `b`, and the number of iterations to perform.\n",
        "\n",
        "\n",
        "The matrix $A$ in the illustration above is strongly diagonally dominant, by construction. \n",
        "What happens if the diagonal matrix elements of $A$ are made smaller? Check the convergence of the Jacobi iteration, and check the value of the norm of $B$.\n",
        "\n",
        "(20% of the total grade)\n"
      ]
    },
    {
      "cell_type": "code",
      "execution_count": 8,
      "metadata": {
        "collapsed": true,
        "id": "5zqTUVVa1Grw"
      },
      "outputs": [],
      "source": [
        "def jacobi_iteration(A, b, n_iter):\n",
        "    # Check if the matrix A is square\n",
        "    if A.shape[0] != A.shape[1]:\n",
        "        raise ValueError(\"Matrix A must be square\")\n",
        "\n",
        "    # Check if the dimensions of A and b are compatible\n",
        "    if A.shape[0] != b.shape[0]:\n",
        "        raise ValueError(\"Dimensions of A and b are not compatible\")\n",
        "\n",
        "    # Extract the diagonal elements of A\n",
        "    diag_1d = np.diag(A)\n",
        "\n",
        "    # Compute the matrices B and c for the Jacobi iteration\n",
        "    B = -A.copy()\n",
        "    np.fill_diagonal(B, 0)\n",
        "\n",
        "    D = np.diag(diag_1d)\n",
        "    invD = np.diag(1. / diag_1d)\n",
        "    BB = invD @ B\n",
        "    c = invD @ b\n",
        "\n",
        "    # Check the norm of B\n",
        "    norm_B = np.linalg.norm(BB)\n",
        "\n",
        "    # Perform the Jacobi iteration\n",
        "    x = np.ones(b.shape)\n",
        "    for _ in range(n_iter):\n",
        "        x = BB @ x + c\n",
        "\n",
        "    # Calculate the residual error\n",
        "    residual = A @ x - b\n",
        "\n",
        "    return x, residual, norm_B\n"
      ]
    },
    {
      "cell_type": "code",
      "source": [
        "# Generate a random diagonally dominant matrix\n",
        "rndm = np.random.RandomState(1234)\n",
        "n = 10\n",
        "A = rndm.uniform(size=(n, n)) + np.diagflat([15]*n)\n",
        "b = rndm.uniform(size=n)\n",
        "\n",
        "# Construct the matrix and the r.h.s. for the Jacobi iteration\n",
        "diag_1d = np.diag(A)\n",
        "B = -A.copy()\n",
        "np.fill_diagonal(B, 0)\n",
        "D = np.diag(diag_1d)\n",
        "invD = np.diag(1./diag_1d)\n",
        "BB = invD @ B\n",
        "c = invD @ b\n",
        "\n",
        "# Check the norm of B\n",
        "norm_B = np.linalg.norm(BB)\n",
        "\n",
        "# Perform the Jacobi iteration\n",
        "n_iter = 50\n",
        "x = np.ones(n)\n",
        "for _ in range(n_iter):\n",
        "    x = BB @ x + c\n",
        "\n",
        "# Check the result\n",
        "residual = A @ x - b\n",
        "\n",
        "# Analysis\n",
        "print(\"Jacobi Iteration:\")\n",
        "print(\"Solution:\")\n",
        "print(x)\n",
        "print(\"Residual error:\")\n",
        "print(residual)\n",
        "print(\"Norm of B:\")\n",
        "print(norm_B)"
      ],
      "metadata": {
        "colab": {
          "base_uri": "https://localhost:8080/"
        },
        "id": "N3wiCIYwge-O",
        "outputId": "4313ce63-40f0-4698-babd-7688aaf320d0"
      },
      "execution_count": 9,
      "outputs": [
        {
          "output_type": "stream",
          "name": "stdout",
          "text": [
            "Jacobi Iteration:\n",
            "Solution:\n",
            "[ 0.03919429  0.03780037  0.04283232  0.02365951  0.05745031 -0.00030244\n",
            " -0.00577279  0.03177549 -0.00422849  0.05284648]\n",
            "Residual error:\n",
            "[ 1.11022302e-16  0.00000000e+00 -2.22044605e-16 -1.11022302e-16\n",
            "  1.11022302e-16  0.00000000e+00 -2.42861287e-17  0.00000000e+00\n",
            " -2.77555756e-17  1.11022302e-16]\n",
            "Norm of B:\n",
            "0.36436161983015336\n"
          ]
        }
      ]
    },
    {
      "cell_type": "markdown",
      "metadata": {
        "id": "xBnguRFT1Grx"
      },
      "source": [
        "# II. Seidel's iteration."
      ]
    },
    {
      "cell_type": "markdown",
      "metadata": {
        "id": "rSbuFdYU1Grx"
      },
      "source": [
        "##### Task II.1\n",
        "\n",
        "Implement the Seidel's iteration. \n",
        "\n",
        "Test it on a random matrix. Study the convergence of iterations, relate to the norm of the iteration matrix.\n",
        "\n",
        "(30% of the total grade)"
      ]
    },
    {
      "cell_type": "code",
      "execution_count": 10,
      "metadata": {
        "collapsed": true,
        "id": "FYygs3Ml1Grx"
      },
      "outputs": [],
      "source": [
        "def seidel_iteration(A, b, n_iter):\n",
        "    # Check if the matrix A is square\n",
        "    if A.shape[0] != A.shape[1]:\n",
        "        raise ValueError(\"Matrix A must be square\")\n",
        "\n",
        "    # Check if the dimensions of A and b are compatible\n",
        "    if A.shape[0] != b.shape[0]:\n",
        "        raise ValueError(\"Dimensions of A and b are not compatible\")\n",
        "\n",
        "    # Extract the diagonal and lower triangular parts of A\n",
        "    diag_1d = np.diag(A)\n",
        "    L = np.tril(A, k=-1)\n",
        "\n",
        "    # Compute the matrix B and vector c for the Seidel's iteration\n",
        "    invDL = np.linalg.inv(np.diag(diag_1d) - L)\n",
        "    B = -invDL @ L\n",
        "    c = invDL @ b\n",
        "\n",
        "    # Check the norm of B\n",
        "    norm_B = np.linalg.norm(B)\n",
        "\n",
        "    # Perform the Seidel's iteration\n",
        "    x = np.zeros(b.shape)\n",
        "    for _ in range(n_iter):\n",
        "        x_new = np.zeros(b.shape)\n",
        "        for i in range(b.shape[0]):\n",
        "            x_new[i] = B[i] @ x_new + c[i]\n",
        "        x = x_new\n",
        "\n",
        "    # Calculate the residual error\n",
        "    residual = A @ x - b\n",
        "\n",
        "    return x, residual, norm_B"
      ]
    },
    {
      "cell_type": "code",
      "source": [
        "# Generate a random matrix and a random right-hand side vector\n",
        "rndm = np.random.RandomState(1234)\n",
        "n = 10\n",
        "A = rndm.uniform(size=(n, n))\n",
        "b = rndm.uniform(size=n)\n",
        "\n",
        "# Set the number of iterations\n",
        "n_iter = 50\n",
        "\n",
        "# Perform the Seidel's iteration\n",
        "x = np.zeros(b.shape)\n",
        "for _ in range(n_iter):\n",
        "    for i in range(b.shape[0]):\n",
        "        x[i] = (b[i] - np.dot(A[i, :i], x[:i]) - np.dot(A[i, i+1:], x[i+1:])) / A[i, i]\n",
        "\n",
        "# Check the result\n",
        "residual = A @ x - b\n",
        "\n",
        "# Analysis\n",
        "print(\"Seidel's Iteration:\")\n",
        "print(\"Solution:\")\n",
        "print(x)\n",
        "print(\"Residual error:\")\n",
        "print(residual)"
      ],
      "metadata": {
        "colab": {
          "base_uri": "https://localhost:8080/"
        },
        "id": "SoM6EHeKdBGb",
        "outputId": "636c5c70-d39c-417d-a1bc-6814316da7fc"
      },
      "execution_count": 11,
      "outputs": [
        {
          "output_type": "stream",
          "name": "stdout",
          "text": [
            "Seidel's Iteration:\n",
            "Solution:\n",
            "[ 3.60745824e+111  2.16710431e+111 -4.19690182e+112  2.01198043e+113\n",
            " -2.25635399e+113  1.76097337e+113  1.19031338e+113 -3.02362308e+113\n",
            "  3.23732514e+113  2.11349413e+112]\n",
            "Residual error:\n",
            "[ 1.32838994e+113  4.56933258e+113 -9.87763785e+112 -1.26738800e+113\n",
            "  4.69137878e+112  1.21896510e+113 -2.55603227e+113  8.40767198e+111\n",
            "  9.31208599e+111  2.56318444e+097]\n"
          ]
        }
      ]
    },
    {
      "cell_type": "markdown",
      "metadata": {
        "id": "y3PDxY8W1Gry"
      },
      "source": [
        "# III. Minimum residual scheme"
      ]
    },
    {
      "cell_type": "markdown",
      "metadata": {
        "id": "IbfUD6zy1Gry"
      },
      "source": [
        "### Task III.1\n",
        "\n",
        "Implement the $\\textit{minimum residual}$ scheme: an explicit non-stationary method, where at each step you select the iteration parameter $\\tau_n$ to minimize the residual $\\mathbf{r}_{n+1}$ given $\\mathbf{r}_n$. Test it on a random matrix, study the convergence to the solution, in terms of the norm of the residual and the deviation from the ground truth solution (which you can obtain using a direct method). Study how the iteration parameter $\\tau_n$ changes as iterations progress.\n",
        "\n",
        "(50% of the grade)"
      ]
    },
    {
      "cell_type": "code",
      "execution_count": 12,
      "metadata": {
        "collapsed": true,
        "id": "60_IGETi1Gry"
      },
      "outputs": [],
      "source": [
        "import numpy as np\n",
        "\n",
        "def minres_scheme(A, b, n_iter):\n",
        "    # Check if the matrix A is square\n",
        "    if A.shape[0] != A.shape[1]:\n",
        "        raise ValueError(\"Matrix A must be square\")\n",
        "\n",
        "    # Check if the dimensions of A and b are compatible\n",
        "    if A.shape[0] != b.shape[0]:\n",
        "        raise ValueError(\"Dimensions of A and b are not compatible\")\n",
        "\n",
        "    # Initialize variables\n",
        "    x = np.zeros(b.shape)\n",
        "    r = b - A @ x\n",
        "    p = r.copy()\n",
        "    T_vals = []\n",
        "\n",
        "    # Perform the MINRES iteration\n",
        "    for i in range(n_iter):\n",
        "        Ap = A @ p\n",
        "        alpha = np.dot(r, r) / np.dot(p, Ap)\n",
        "        x = x + alpha * p\n",
        "        r_new = r - alpha * Ap\n",
        "        beta = np.dot(r_new, r_new) / np.dot(r, r)\n",
        "        p = r_new + beta * p\n",
        "        r = r_new\n",
        "\n",
        "        # Update T value\n",
        "        T = np.linalg.norm(r) / np.linalg.norm(b)\n",
        "        T_vals.append(T)\n",
        "\n",
        "    # Calculate the residual and deviation from the ground truth solution\n",
        "    residual = A @ x - b\n",
        "    deviation = np.linalg.norm(x - np.linalg.lstsq(A, b, rcond=None)[0])\n",
        "\n",
        "    return x, residual, deviation, T_vals"
      ]
    },
    {
      "cell_type": "code",
      "source": [
        "# Generate a random matrix and a random right-hand side vector\n",
        "rndm = np.random.RandomState(1234)\n",
        "n = 10\n",
        "A = rndm.uniform(size=(n, n))\n",
        "b = rndm.uniform(size=n)\n",
        "\n",
        "# Set the number of iterations\n",
        "n_iter = 50\n",
        "\n",
        "# Perform the MINRES iteration\n",
        "x, residual, deviation, T_vals = minres_scheme(A, b, n_iter)\n",
        "\n",
        "# Calculate the ground truth solution using a direct method\n",
        "ground_truth = np.linalg.lstsq(A, b, rcond=None)[0]\n",
        "\n",
        "# Analysis\n",
        "print(\"Minimum Residual Scheme:\")\n",
        "print(\"Solution:\")\n",
        "print(x)\n",
        "print(\"Residual error:\")\n",
        "print(residual)\n",
        "print(\"Deviation from ground truth:\")\n",
        "print(deviation)\n",
        "print(\"Iteration parameters (T):\")\n",
        "print(T_vals)"
      ],
      "metadata": {
        "colab": {
          "base_uri": "https://localhost:8080/"
        },
        "id": "Ylohm2qUeOg9",
        "outputId": "b4c97d80-bf1f-4d3b-bfa7-e7cf8fd6bdb2"
      },
      "execution_count": 13,
      "outputs": [
        {
          "output_type": "stream",
          "name": "stdout",
          "text": [
            "Minimum Residual Scheme:\n",
            "Solution:\n",
            "[ 2.93306283e+14  4.03745250e+14  6.07282799e+14 -3.31969949e+14\n",
            "  1.39020128e+15 -1.00219407e+15 -8.66213030e+14  3.90113863e+14\n",
            " -1.22651120e+15  9.11785662e+14]\n",
            "Residual error:\n",
            "[ 8.20427755e+14 -1.35527184e+14  1.01628480e+15  1.60145875e+15\n",
            "  4.24584026e+14 -1.87959155e+14  9.87561841e+14  2.35857911e+14\n",
            "  8.56802561e+14  8.38160103e+14]\n",
            "Deviation from ground truth:\n",
            "2627410217979341.5\n",
            "Iteration parameters (T):\n",
            "[0.6443307497565302, 78.98073711558487, 3120.637708077472, 65310.75927656208, 916409.1241259603, 9562644.603155814, 78673070.4199493, 529777257.5166381, 2996774355.5977507, 14512858840.489359, 61045776992.63848, 225561171462.38004, 738720566489.6774, 2159546189342.093, 5670966926157.41, 13543763883246.371, 29578178710012.668, 59745548708194.69, 106153126927032.36, 161568873460175.47, 223902836926894.4, 261835877612631.5, 283208925936702.94, 257376391490074.03, 166665896228105.12, 100424175987008.5, 60864104887432.06, 32786643045048.15, 15957781953273.363, 7071046681915.768, 2821036394983.3022, 1010334509632.6255, 323622821803.09406, 92175874044.25356, 23154622879.4104, 5077239962.987634, 959315034.4392251, 153570779.3312588, 20362092.101071537, 2165935.7981037744, 176172.57171377598, 10114.097335024811, 354.30823770364566, 58.291680571416016, 727.7709338468708, 74827.1753383012, 10983529.020392684, 2787239571.195822, 2569520484408.9844, 1279145282557039.0]\n"
          ]
        }
      ]
    }
  ],
  "metadata": {
    "kernelspec": {
      "display_name": "Python 3",
      "language": "python",
      "name": "python3"
    },
    "language_info": {
      "codemirror_mode": {
        "name": "ipython",
        "version": 3
      },
      "file_extension": ".py",
      "mimetype": "text/x-python",
      "name": "python",
      "nbconvert_exporter": "python",
      "pygments_lexer": "ipython3",
      "version": "3.5.2"
    },
    "colab": {
      "provenance": [],
      "include_colab_link": true
    }
  },
  "nbformat": 4,
  "nbformat_minor": 0
}
